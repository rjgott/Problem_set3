{
 "cells": [
  {
   "cell_type": "markdown",
   "metadata": {},
   "source": [
    "Python Scripts for PROBLEM SET 3 - Python Scripts (Python 3.10.7 in VS-Code)\n",
    "Riley J. Gott\n",
    "October 21, 2022"
   ]
  },
  {
   "cell_type": "code",
   "execution_count": 1,
   "metadata": {},
   "outputs": [
    {
     "data": {
      "text/plain": [
       "'/Users/rileygott/Library/CloudStorage/OneDrive-Personal/UF PhD Classes/BSC_6451_Computational_Tools_Research_Biology/github-account-rjgott/Code/Problem_set3'"
      ]
     },
     "execution_count": 1,
     "metadata": {},
     "output_type": "execute_result"
    }
   ],
   "source": [
    "#Data used to execute code found in below path:\n",
    "'/Users/rileygott/Library/CloudStorage/OneDrive-Personal/UF PhD Classes/BSC_6451_Computational_Tools_Research_Biology/github-account-rjgott/Code/Class_Files/data/CO-OPS__8729108__wl.csv'\n",
    "\n"
   ]
  }
 ],
 "metadata": {
  "kernelspec": {
   "display_name": "Python 3.10.7 64-bit",
   "language": "python",
   "name": "python3"
  },
  "language_info": {
   "codemirror_mode": {
    "name": "ipython",
    "version": 3
   },
   "file_extension": ".py",
   "mimetype": "text/x-python",
   "name": "python",
   "nbconvert_exporter": "python",
   "pygments_lexer": "ipython3",
   "version": "3.10.7"
  },
  "orig_nbformat": 4,
  "vscode": {
   "interpreter": {
    "hash": "aee8b7b246df8f9039afb4144a1f6fd8d2ca17a180786b69acc140d282b71a49"
   }
  }
 },
 "nbformat": 4,
 "nbformat_minor": 2
}
